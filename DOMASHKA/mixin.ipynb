{
 "cells": [
  {
   "cell_type": "code",
   "execution_count": 27,
   "metadata": {},
   "outputs": [],
   "source": [
    "class Character:\n",
    "    def __init__(self, name, age):\n",
    "        self.name = name\n",
    "        self.age = age"
   ]
  },
  {
   "cell_type": "code",
   "execution_count": 28,
   "metadata": {},
   "outputs": [],
   "source": [
    "class HarryPoter(Character):\n",
    "    def __init__(self, name, age):\n",
    "        super().__init__(name, age)\n",
    "\n",
    "class Hagrid(Character):\n",
    "    def __init__(self, name, age):\n",
    "        super().__init__(name, age)\n",
    "\n",
    "class Shrek(Character):\n",
    "    def __init__(self, name, age):\n",
    "        super().__init__(name, age)"
   ]
  },
  {
   "cell_type": "code",
   "execution_count": 29,
   "metadata": {},
   "outputs": [],
   "source": [
    "class MixinFunkoPop:\n",
    "    def collect_dust(self):\n",
    "        print(f\"{self.name} собирает пыль\")\n",
    "\n",
    "    def yellow_under_sun(self):\n",
    "        print(f\"{self.name} желтеет на солнце\")"
   ]
  },
  {
   "cell_type": "code",
   "execution_count": 30,
   "metadata": {},
   "outputs": [],
   "source": [
    "class MixinPlayable:\n",
    "    def play(self):\n",
    "        print(f\"{self.name} играет\")"
   ]
  },
  {
   "cell_type": "code",
   "execution_count": 31,
   "metadata": {},
   "outputs": [],
   "source": [
    "class FunkoPopHarryPotter(HarryPoter, MixinFunkoPop):\n",
    "    def __init__(self, name, age):\n",
    "        super().__init__(name, age)\n",
    "\n",
    "    def play(self):\n",
    "        print(f\"{self.name} (игрушка) не может играть\") \n",
    "        \n",
    "class PlayableHarryPotter(HarryPoter, MixinPlayable):\n",
    "    def __init__(self, name, age):\n",
    "        super().__init__(name, age)\n",
    "\n",
    "    def collect_dust(self):\n",
    "        print(f\"{self.name} не собирает пыль, он живой персонаж\")\n"
   ]
  },
  {
   "cell_type": "code",
   "execution_count": 32,
   "metadata": {},
   "outputs": [
    {
     "name": "stdout",
     "output_type": "stream",
     "text": [
      "Гарри Поттер собирает пыль\n",
      "Гарри Поттер желтеет на солнце\n",
      "Гарри Поттер играет\n"
     ]
    }
   ],
   "source": [
    "funko_harry = FunkoPopHarryPotter(\"Гарри Поттер\", 18)\n",
    "playable_harry = PlayableHarryPotter(\"Гарри Поттер\", 18)\n",
    "\n",
    "funko_harry.collect_dust()  \n",
    "funko_harry.yellow_under_sun() \n",
    "playable_harry.play() "
   ]
  }
 ],
 "metadata": {
  "kernelspec": {
   "display_name": "Python 3",
   "language": "python",
   "name": "python3"
  },
  "language_info": {
   "codemirror_mode": {
    "name": "ipython",
    "version": 3
   },
   "file_extension": ".py",
   "mimetype": "text/x-python",
   "name": "python",
   "nbconvert_exporter": "python",
   "pygments_lexer": "ipython3",
   "version": "3.11.5"
  },
  "orig_nbformat": 4
 },
 "nbformat": 4,
 "nbformat_minor": 2
}
