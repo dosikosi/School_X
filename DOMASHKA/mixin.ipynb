{
 "cells": [
  {
   "cell_type": "code",
   "execution_count": 58,
   "metadata": {},
   "outputs": [],
   "source": [
    "class Character:\n",
    "    def set_character(self, name, age):\n",
    "        self.name = name\n",
    "        self.age = age"
   ]
  },
  {
   "cell_type": "code",
   "execution_count": 59,
   "metadata": {},
   "outputs": [],
   "source": [
    "class HarryPotter(Character):\n",
    "    def do_something(self):\n",
    "        print(f\"{self.name} выполняет какое-то действие\")\n",
    "\n",
    "class Hagrid(Character):\n",
    "    def do_something(self):\n",
    "        print(f\"{self.name} выполняет какое-то другое действие\")\n",
    "\n",
    "class Shrek(Character):\n",
    "    def do_something(self):\n",
    "        print(f\"{self.name} выполняет еще одно действие\")"
   ]
  },
  {
   "cell_type": "code",
   "execution_count": 60,
   "metadata": {},
   "outputs": [],
   "source": [
    "class MixinFunkoPop:\n",
    "    def collect_dust(self):\n",
    "        print(f\"{self.name} собирает пыль\")\n",
    "\n",
    "    def yellow_under_sun(self):\n",
    "        print(f\"{self.name} желтеет на солнце\")"
   ]
  },
  {
   "cell_type": "code",
   "execution_count": 61,
   "metadata": {},
   "outputs": [],
   "source": [
    "class MixinPlayable:\n",
    "    def play(self):\n",
    "        print(f\"{self.name} играет\")"
   ]
  },
  {
   "cell_type": "code",
   "execution_count": 62,
   "metadata": {},
   "outputs": [],
   "source": [
    "class FunkoPopShrek(Shrek, MixinFunkoPop): \n",
    "    def play(self):\n",
    "        print(f\"{self.name} игрушка и не может играть\")\n",
    "\n",
    "    def do_something(self):\n",
    "        print(f\"{self.name} игрушка и не может выполнять действия\")\n",
    "\n",
    "class PlayableShrek(Shrek, MixinPlayable):\n",
    "    def collect_dust(self):\n",
    "        print(f\"{self.name} не собирает пыль, он живой персонаж\")\n",
    "\n",
    "    def yellow_under_sun(self):\n",
    "        print(f\"{self.name} не желтеет на солнце, он живой персонаж\")\n",
    "\n",
    "    def do_something(self):\n",
    "        print(f\"{self.name} выполняет какое-то действие\")\n"
   ]
  },
  {
   "cell_type": "code",
   "execution_count": 63,
   "metadata": {},
   "outputs": [
    {
     "name": "stdout",
     "output_type": "stream",
     "text": [
      "Шрекис собирает пыль\n",
      "Шрекис желтеет на солнце\n",
      "Шрекис игрушка и не может выполнять действия\n",
      "Шрекис играет\n",
      "Шрекис не собирает пыль, он живой персонаж\n",
      "Шрекис не желтеет на солнце, он живой персонаж\n",
      "Шрекис выполняет какое-то действие\n"
     ]
    }
   ],
   "source": [
    "funko_harry = FunkoPopShrek()\n",
    "funko_harry.set_character(\"Шрекис\", 18)\n",
    "\n",
    "playable_harry = PlayableShrek()\n",
    "playable_harry.set_character(\"Шрекис\", 18)\n",
    "\n",
    "funko_harry.collect_dust()\n",
    "funko_harry.yellow_under_sun()\n",
    "funko_harry.do_something()\n",
    "playable_harry.play()\n",
    "playable_harry.collect_dust()\n",
    "playable_harry.yellow_under_sun()\n",
    "playable_harry.do_something()"
   ]
  }
 ],
 "metadata": {
  "kernelspec": {
   "display_name": "Python 3",
   "language": "python",
   "name": "python3"
  },
  "language_info": {
   "codemirror_mode": {
    "name": "ipython",
    "version": 3
   },
   "file_extension": ".py",
   "mimetype": "text/x-python",
   "name": "python",
   "nbconvert_exporter": "python",
   "pygments_lexer": "ipython3",
   "version": "3.11.6"
  },
  "orig_nbformat": 4
 },
 "nbformat": 4,
 "nbformat_minor": 2
}
