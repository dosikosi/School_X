{
 "cells": [
  {
   "cell_type": "code",
   "execution_count": 2,
   "metadata": {},
   "outputs": [],
   "source": [
    "class Matrix:\n",
    "    def __init__(self, matrix):\n",
    "        self.matrix = matrix\n",
    "\n",
    "    def __str__(self):\n",
    "        return '\\n'.join([' '.join(map(str, row)) for row in self.matrix]) \n",
    "\n",
    "    def _elementwise_operation(self, other, operator):  \n",
    "        if isinstance(other, (int, float)): \n",
    "            result = [[operator(x, other) for x in row] for row in self.matrix]\n",
    "        elif isinstance(other, Matrix):\n",
    "            result = [[operator(x, y) for x, y in zip(row1, row2)] for row1, row2 in zip(self.matrix, other.matrix)]\n",
    "        return Matrix(result) \n",
    "\n",
    "    def __add__(self, other): \n",
    "        return self._elementwise_operation(other, lambda x, y: x + y)\n",
    "\n",
    "    def __sub__(self, other): \n",
    "        return self._elementwise_operation(other, lambda x, y: x - y)\n",
    "\n",
    "    def __truediv__(self, other): \n",
    "        return self._elementwise_operation(other, lambda x, y: x / y if y != 0 else 0)\n",
    "\n",
    "    def __mul__(self, other): \n",
    "        return self._elementwise_operation(other, lambda x, y: x * y)\n",
    "\n",
    "    def __matmul__(self, other): \n",
    "        result = [[sum(a * b for a, b in zip(row1, col2)) for col2 in zip(*other.matrix)] for row1 in self.matrix]\n",
    "        return Matrix(result)\n",
    "\n",
    "    def shape(self):\n",
    "        return (len(self.matrix), len(self.matrix[0]))\n",
    "\n",
    "    def T(self): \n",
    "        result = [[x for x in row] for row in zip(*self.matrix)]\n",
    "        return Matrix(result)\n",
    "    \n",
    "    def get_vectors(self):\n",
    "        v1 = []\n",
    "        v2 = []\n",
    "        v3 = [] \n",
    "        v4 = []\n",
    "        for i in self.matrix:\n",
    "            v1.append(i[0])\n",
    "            v2.append(i[1])\n",
    "            v3.append(i[2])\n",
    "            v4.append(i[3])\n",
    "        return [v1,], [v2,], [v3,], [v4,]\n",
    "\n",
    "\n",
    "    def basises(self):\n",
    "        v1 = self.get_vectors()[0]\n",
    "        v2 = self.get_vectors()[1]\n",
    "        v3 = self.get_vectors()[2]\n",
    "        v4 = self.get_vectors()[3]\n",
    "        \n",
    "        def vector_multiply(vec1, vec2):\n",
    "                res = 0\n",
    "                for i in range(len(vec2[0])):\n",
    "                    res += vec1[0][i] * vec2[0][i]\n",
    "                return res\n",
    "\n",
    "        f1 = v1\n",
    "\n",
    "        f2 = (Matrix(v2) - (Matrix(f1)*(vector_multiply(v2,f1) / vector_multiply(f1,f1)))).matrix\n",
    "\n",
    "        f3 = (Matrix(v3) - (Matrix(f1)*(vector_multiply(v3,f1) / vector_multiply(f1,f1))) -\n",
    "                            (Matrix(f2)*(vector_multiply(v3,f2) / vector_multiply(f2,f2)))).matrix\n",
    "        \n",
    "        f4 = (Matrix(v4) - (Matrix(f1)*(vector_multiply(v4,f1) / vector_multiply(f1,f1))) -\n",
    "                            (Matrix(f2)*(vector_multiply(v4,f2) / vector_multiply(f2,f2))) -\n",
    "                            (Matrix(f3)*(vector_multiply(v4,f3) / vector_multiply(f3,f3)))).matrix\n",
    "        return Matrix(f1), Matrix(f2), Matrix(f3), Matrix(f4)\n",
    "    \n",
    "    def orthogonals(self):\n",
    "        res = []\n",
    "        for f in self.basises():\n",
    "            res.append((f/(f.matrix[0][0]**2 + f.matrix[0][1]**2 + f.matrix[0][2]**2 + f.matrix[0][3]**2)**0.5).matrix)\n",
    "        return(res)\n"
   ]
  },
  {
   "cell_type": "code",
   "execution_count": 3,
   "metadata": {},
   "outputs": [
    {
     "data": {
      "text/plain": [
       "[[[0.7071067811865475, 0.0, 0.7071067811865475, 0.0]],\n",
       " [[-0.2389092412837483,\n",
       "   -0.38225478605399726,\n",
       "   0.2389092412837483,\n",
       "   0.8600732686214939]],\n",
       " [[-0.6290593537327056,\n",
       "   0.42803140945187684,\n",
       "   0.6290593537327056,\n",
       "   -0.15924123676178]],\n",
       " [[0.2172710379010845,\n",
       "   0.8189446813194726,\n",
       "   -0.2172710379010845,\n",
       "   0.48468154608703473]]]"
      ]
     },
     "execution_count": 3,
     "metadata": {},
     "output_type": "execute_result"
    }
   ],
   "source": [
    "test_matrix = Matrix([[1, -5, 2, 0],\n",
    "                      [0, -4, 1, 7],\n",
    "                      [1,  0, 8, 1],\n",
    "                      [0,  9, 1, 3]])\n",
    "test_matrix.orthogonals()"
   ]
  }
 ],
 "metadata": {
  "kernelspec": {
   "display_name": "Python 3",
   "language": "python",
   "name": "python3"
  },
  "language_info": {
   "codemirror_mode": {
    "name": "ipython",
    "version": 3
   },
   "file_extension": ".py",
   "mimetype": "text/x-python",
   "name": "python",
   "nbconvert_exporter": "python",
   "pygments_lexer": "ipython3",
   "version": "3.11.6"
  }
 },
 "nbformat": 4,
 "nbformat_minor": 2
}
