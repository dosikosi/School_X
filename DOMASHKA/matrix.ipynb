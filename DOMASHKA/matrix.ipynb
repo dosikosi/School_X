{
 "cells": [
  {
   "cell_type": "code",
   "execution_count": 4,
   "metadata": {},
   "outputs": [],
   "source": [
    "class Matrix:\n",
    "    def __init__(self, matrix):\n",
    "        self.matrix = matrix\n",
    "\n",
    "    def __str__(self):\n",
    "        return '\\n'.join([' '.join(map(str, row)) for row in self.matrix])\n",
    "\n",
    "    def _elementwise_operation(self, other, operator):# Вспомогательная функция для выполняемых операций, принимает другую матрицу или число и оператор\n",
    "        if isinstance(other, (int, float)):\n",
    "            result = [[operator(x, other) for x in row] for row in self.matrix]# Если other - число, выполняем операцию поэлементно для каждого элемента матрицы\n",
    "        elif isinstance(other, Matrix):\n",
    "            if self.shape() != other.shape():# Если other - объект класса Matrix, проверяем, что размерности матриц совпадают\n",
    "                raise ValueError(\"Размеры матрицы должны быть одинаковыми\")\n",
    "            result = [[operator(x, y) for x, y in zip(row1, row2)] for row1, row2 in zip(self.matrix, other.matrix)]# Выполняем операцию поэлементно для каждой пары элементов двух матриц\n",
    "        else:\n",
    "            raise TypeError(\"Неподдерживаемый тип\")# Выбрасываем исключения если other не число и не матрица\n",
    "        return Matrix(result)\n",
    "\n",
    "    def __add__(self, other):\n",
    "        return self._elementwise_operation(other, lambda x, y: x + y)\n",
    "\n",
    "    def __sub__(self, other):\n",
    "        return self._elementwise_operation(other, lambda x, y: x - y)\n",
    "\n",
    "    def __truediv__(self, other):\n",
    "        return self._elementwise_operation(other, lambda x, y: x / y if y != 0 else 0)\n",
    "\n",
    "    def __mul__(self, other):\n",
    "        return self._elementwise_operation(other, lambda x, y: x * y)\n",
    "\n",
    "    def __matmul__(self, other):\n",
    "        if self.shape()[1] != other.shape()[0]:\n",
    "            raise ValueError(\"Количество столбцов в первой матрице должно быть равно количеству строк во второй матрице\")\n",
    "        result = [[sum(a * b for a, b in zip(row1, col2)) for col2 in zip(*other.matrix)] for row1 in self.matrix]\n",
    "        return Matrix(result)\n",
    "\n",
    "    def shape(self): \n",
    "        return (len(self.matrix), len(self.matrix[0]))# Возвращает размерность матрицы в виде кортежа (количество строк, количество столбцов)\n",
    "\n",
    "    def T(self):\n",
    "        result = [[x for x in row] for row in zip(*self.matrix)]\n",
    "        return Matrix(result)\n"
   ]
  },
  {
   "cell_type": "code",
   "execution_count": 5,
   "metadata": {},
   "outputs": [
    {
     "name": "stdout",
     "output_type": "stream",
     "text": [
      "Note: you may need to restart the kernel to use updated packages.\n"
     ]
    }
   ],
   "source": [
    "%pip install -q ipytest pytest\n",
    "\n",
    "import numpy as np\n",
    "import ipytest\n",
    "import pytest\n",
    "ipytest.autoconfig()"
   ]
  },
  {
   "cell_type": "code",
   "execution_count": 6,
   "metadata": {},
   "outputs": [
    {
     "name": "stdout",
     "output_type": "stream",
     "text": [
      "\u001b[32m.\u001b[0m\u001b[32m.\u001b[0m\u001b[32m.\u001b[0m\u001b[32m.\u001b[0m\u001b[32m.\u001b[0m\u001b[32m.\u001b[0m\u001b[32m.\u001b[0m\u001b[32m.\u001b[0m\u001b[32m.\u001b[0m\u001b[32m.\u001b[0m\u001b[32m                                                                                   [100%]\u001b[0m\n",
      "\u001b[32m\u001b[32m\u001b[1m10 passed\u001b[0m\u001b[32m in 0.09s\u001b[0m\u001b[0m\n"
     ]
    }
   ],
   "source": [
    "%%ipytest\n",
    "\n",
    "matrix1 = Matrix([[1,2,3],[4,5,6],[7,8,9]])\n",
    "matrix2 = Matrix([[10,11,12],[13,14,15],[16,17,18]])\n",
    "\n",
    "@pytest.mark.parametrize(\"matrix1,matrix2\", [[matrix1, matrix2]])\n",
    "def test_matrix_add_matrix(matrix1: Matrix, matrix2: Matrix):\n",
    "    assert (\n",
    "        (np.array((matrix1 + matrix2).matrix) == (np.array(matrix1.matrix) + np.array(matrix2.matrix))).all()\n",
    "    ), 'add section with matrices is not working right'\n",
    "\n",
    "@pytest.mark.parametrize(\"matrix1,number\", [[matrix1, 13.2]])\n",
    "def test_matrix_add_number(matrix1: Matrix, number: int | float):\n",
    "    assert (\n",
    "        (np.array((matrix1 + number).matrix) == np.array(matrix1.matrix) + number).all()\n",
    "    ), 'add section with matrix and number is not working right'\n",
    "\n",
    "@pytest.mark.parametrize(\"matrix1,matrix2\", [[matrix1, matrix2]])\n",
    "def test_matrix_sub_matrix(matrix1: Matrix, matrix2: Matrix):\n",
    "    assert (\n",
    "        (np.array((matrix1 - matrix2).matrix) == np.array(matrix1.matrix) - np.array(matrix2.matrix)).all()\n",
    "    ), 'sub section with matrices is not working right'\n",
    "\n",
    "@pytest.mark.parametrize(\"matrix1,number\", [[matrix1, 12.2]])    \n",
    "def test_matrix_sub_number(matrix1: Matrix, number: int | float):\n",
    "    assert (\n",
    "        (np.array((matrix1 - number).matrix) == np.array(matrix1.matrix) - number).all()\n",
    "    ), 'sub section with matrix and number is not working right'\n",
    "\n",
    "@pytest.mark.parametrize(\"matrix1\", [matrix1])    \n",
    "def test_matrix_transpose(matrix1: Matrix):\n",
    "    assert (\n",
    "        (np.array(matrix1.T().matrix) == np.array(matrix1.matrix).T).all()\n",
    "    ), 'transpose section is not working right'\n",
    "    \n",
    "# -----------------------------------------\n",
    "\n",
    "@pytest.mark.parametrize(\"matrix1,matrix2\", [[matrix1, matrix2]])\n",
    "def test_matrix_mul_matrix(matrix1: Matrix, matrix2: Matrix):\n",
    "    assert (\n",
    "        (np.array((matrix1 * matrix2).matrix) == np.array(matrix1.matrix) * np.array(matrix2.matrix)).all()\n",
    "    ), 'mul section with matrices is not working right'\n",
    "\n",
    "@pytest.mark.parametrize(\"matrix1,number\", [[matrix1, 13]])\n",
    "def test_matrix_mul_number(matrix1: Matrix, number: int | float):\n",
    "    assert (\n",
    "        (np.array((matrix1 * number).matrix) == np.array(matrix1.matrix) * number).all()\n",
    "    ), 'mul section with matrix and number is not working right'\n",
    "\n",
    "@pytest.mark.parametrize(\"matrix1,matrix2\", [[matrix1, matrix2]])    \n",
    "def test_matrix_div_matrix(matrix1: Matrix, matrix2: Matrix):\n",
    "    assert (\n",
    "        (np.array((matrix1 / matrix2).matrix) == np.array(matrix1.matrix) / np.array(matrix2.matrix)).all()\n",
    "    ), 'div section with matrices is not working right'\n",
    "\n",
    "@pytest.mark.parametrize(\"matrix1,number\", [[matrix1, 2]])    \n",
    "def test_matrix_div_number(matrix1: Matrix, number: int | float):\n",
    "    assert (\n",
    "        (np.array((matrix1 / number).matrix) == np.array(matrix1.matrix) / number).all()\n",
    "    ), 'div section with matrix and number is not working right'\n",
    "\n",
    "@pytest.mark.parametrize(\"matrix1,matrix2\", [[matrix1, matrix2.T()]])    \n",
    "def test_matrix_matmul_matrix(matrix1: Matrix, matrix2: Matrix):\n",
    "    assert(\n",
    "        (np.array((matrix1 @ matrix2).matrix) == np.array(matrix1.matrix) @ np.array(matrix2.matrix)).all()\n",
    "    ), 'matmul section is not working right, and don\\'t forget about T() if needed'"
   ]
  }
 ],
 "metadata": {
  "kernelspec": {
   "display_name": "Python 3",
   "language": "python",
   "name": "python3"
  },
  "language_info": {
   "codemirror_mode": {
    "name": "ipython",
    "version": 3
   },
   "file_extension": ".py",
   "mimetype": "text/x-python",
   "name": "python",
   "nbconvert_exporter": "python",
   "pygments_lexer": "ipython3",
   "version": "3.11.5"
  },
  "orig_nbformat": 4
 },
 "nbformat": 4,
 "nbformat_minor": 2
}
