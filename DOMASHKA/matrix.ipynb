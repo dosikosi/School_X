{
 "cells": [
  {
   "cell_type": "code",
   "execution_count": 47,
   "metadata": {},
   "outputs": [],
   "source": [
    "class Matrix:\n",
    "    def __init__(self, matrix):\n",
    "        self.matrix = matrix #инициализация объекта матрицы, принимает двумерный список и сохраняет его\n",
    "\n",
    "    def __str__(self):\n",
    "        return '\\n'.join([' '.join(map(str, row)) for row in self.matrix]) #представление объекта в виде строки. преобразует каждую строку матрицы в строку символов и объединяет их в одну строку с разделителями больше текста больше текста \n",
    "\n",
    "    def _elementwise_operation(self, other, operator):  #метод для выполениения поэлементных операций +-*/ матрицы на число/другую матрицу #other - число или другая матрица, operator - функция для выполнения операции\n",
    "        if isinstance(other, (int, float)): #если other - число, то выполняем операцию с числом над каждым элементом матрицы\n",
    "            result = [[operator(x, other) for x in row] for row in self.matrix]\n",
    "        elif isinstance(other, Matrix):#если other - объект класса Matrix, то выполняем операцию с соответствующими элементами двух матриц. для этого используем функцию zip, которая объединяет соответствующие элементы двух рядов матриц. лямбда (далее) -функция оператор и применяется к этим парам элементов.\n",
    "            result = [[operator(x, y) for x, y in zip(row1, row2)] for row1, row2 in zip(self.matrix, other.matrix)]\n",
    "        return Matrix(result) # возвращение новой матрицы с результатами операции \n",
    "\n",
    "    def __add__(self, other): # add перегружает оператор + для объектов класса Matrix. Он вызывает _elementwise_operation с оператором сложения для выполнения поэлементного сложения матриц.\n",
    "        return self._elementwise_operation(other, lambda x, y: x + y)\n",
    "\n",
    "    def __sub__(self, other): # sub перегружает оператор - для объектов класса Matrix. Он вызывает _elementwise_operation с оператором вычитания для выполнения поэлементного вычитания матриц.\n",
    "        return self._elementwise_operation(other, lambda x, y: x - y)\n",
    "\n",
    "    def __truediv__(self, other): # truediv перегружает оператор / для объектов класса Matrix. Он вызывает _elementwise_operation с оператором деления для выполнения поэлементного деления матриц, если делитель равен нулю, возвращается 0.\n",
    "        return self._elementwise_operation(other, lambda x, y: x / y if y != 0 else 0)\n",
    "\n",
    "    def __mul__(self, other): # mul перегружает оператор * для объектов класса Matrix. Он вызывает _elementwise_operation с оператором умножения для выполнения поэлементного умножения матриц.\n",
    "        return self._elementwise_operation(other, lambda x, y: x * y)\n",
    "\n",
    "    def __matmul__(self, other): # matmul перегружает оператор @ для объектов класса Matrix. Он выполняет умножение матриц по правилам матричного умножения. Для этого используется генератор списков, где каждый элемент новой матрицы вычисляется как сумма произведений элементов строк первой матрицы и столбцов второй матрицы. Здесь используется zip для удобного объединения элементов строк первой матрицы и столбцов второй матрицы.\n",
    "        result = [[sum(a * b for a, b in zip(row1, col2)) for col2 in zip(*other.matrix)] for row1 in self.matrix]\n",
    "        return Matrix(result)\n",
    "\n",
    "    def shape(self):# shape возвращает кортеж из двух значений: количество строк и количество столбцов матрицы.\n",
    "        return (len(self.matrix), len(self.matrix[0]))\n",
    "\n",
    "    def T(self): # T выполняет транспонирование матрицы, меняя строки и столбцы местами. для этого используется zip(*self.matrix), что позволяет получить кортеж столбцов матрицы. затем создается новая матрица из этих столбцов.\n",
    "        result = [[x for x in row] for row in zip(*self.matrix)]\n",
    "        return Matrix(result)\n",
    "\n",
    "#zip позволяет объединить элементы матрицы для выполнения операций над соответствующими парами элементов, а lambda определяет функцию, применяемую к этим парам элементов.\n"
   ]
  },
  {
   "cell_type": "code",
   "execution_count": 48,
   "metadata": {},
   "outputs": [
    {
     "name": "stdout",
     "output_type": "stream",
     "text": [
      "Note: you may need to restart the kernel to use updated packages.\n"
     ]
    }
   ],
   "source": [
    "%pip install -q ipytest pytest\n",
    "\n",
    "import numpy as np\n",
    "import ipytest\n",
    "import pytest\n",
    "ipytest.autoconfig()"
   ]
  },
  {
   "cell_type": "code",
   "execution_count": 49,
   "metadata": {},
   "outputs": [
    {
     "name": "stdout",
     "output_type": "stream",
     "text": [
      "\u001b[32m.\u001b[0m\u001b[32m.\u001b[0m\u001b[32m.\u001b[0m\u001b[32m.\u001b[0m\u001b[32m.\u001b[0m\u001b[32m.\u001b[0m\u001b[32m.\u001b[0m\u001b[32m.\u001b[0m\u001b[32m.\u001b[0m\u001b[32m.\u001b[0m\u001b[32m                                                                                   [100%]\u001b[0m\n",
      "\u001b[32m\u001b[32m\u001b[1m10 passed\u001b[0m\u001b[32m in 0.08s\u001b[0m\u001b[0m\n"
     ]
    }
   ],
   "source": [
    "%%ipytest\n",
    "\n",
    "matrix1 = Matrix([[10,11,12],[13,14,15],[16,17,18]])\n",
    "matrix2 = Matrix([[10,11,12],[13,14,15],[16,17,18]])\n",
    "\n",
    "@pytest.mark.parametrize(\"matrix1,matrix2\", [[matrix1, matrix2]])\n",
    "def test_matrix_add_matrix(matrix1: Matrix, matrix2: Matrix):\n",
    "    assert (\n",
    "        (np.array((matrix1 + matrix2).matrix) == (np.array(matrix1.matrix) + np.array(matrix2.matrix))).all()\n",
    "    ), 'add section with matrices is not working right'\n",
    "\n",
    "@pytest.mark.parametrize(\"matrix1,number\", [[matrix1, 13.2]])\n",
    "def test_matrix_add_number(matrix1: Matrix, number: int | float):\n",
    "    assert (\n",
    "        (np.array((matrix1 + number).matrix) == np.array(matrix1.matrix) + number).all()\n",
    "    ), 'add section with matrix and number is not working right'\n",
    "\n",
    "@pytest.mark.parametrize(\"matrix1,matrix2\", [[matrix1, matrix2]])\n",
    "def test_matrix_sub_matrix(matrix1: Matrix, matrix2: Matrix):\n",
    "    assert (\n",
    "        (np.array((matrix1 - matrix2).matrix) == np.array(matrix1.matrix) - np.array(matrix2.matrix)).all()\n",
    "    ), 'sub section with matrices is not working right'\n",
    "\n",
    "@pytest.mark.parametrize(\"matrix1,number\", [[matrix1, 12.2]])    \n",
    "def test_matrix_sub_number(matrix1: Matrix, number: int | float):\n",
    "    assert (\n",
    "        (np.array((matrix1 - number).matrix) == np.array(matrix1.matrix) - number).all()\n",
    "    ), 'sub section with matrix and number is not working right'\n",
    "\n",
    "@pytest.mark.parametrize(\"matrix1\", [matrix1])    \n",
    "def test_matrix_transpose(matrix1: Matrix):\n",
    "    assert (\n",
    "        (np.array(matrix1.T().matrix) == np.array(matrix1.matrix).T).all()\n",
    "    ), 'transpose section is not working right'\n",
    "    \n",
    "# -----------------------------------------\n",
    "\n",
    "@pytest.mark.parametrize(\"matrix1,matrix2\", [[matrix1, matrix2]])\n",
    "def test_matrix_mul_matrix(matrix1: Matrix, matrix2: Matrix):\n",
    "    assert (\n",
    "        (np.array((matrix1 * matrix2).matrix) == np.array(matrix1.matrix) * np.array(matrix2.matrix)).all()\n",
    "    ), 'mul section with matrices is not working right'\n",
    "\n",
    "@pytest.mark.parametrize(\"matrix1,number\", [[matrix1, 13]])\n",
    "def test_matrix_mul_number(matrix1: Matrix, number: int | float):\n",
    "    assert (\n",
    "        (np.array((matrix1 * number).matrix) == np.array(matrix1.matrix) * number).all()\n",
    "    ), 'mul section with matrix and number is not working right'\n",
    "\n",
    "@pytest.mark.parametrize(\"matrix1,matrix2\", [[matrix1, matrix2]])    \n",
    "def test_matrix_div_matrix(matrix1: Matrix, matrix2: Matrix):\n",
    "    assert (\n",
    "        (np.array((matrix1 / matrix2).matrix) == np.array(matrix1.matrix) / np.array(matrix2.matrix)).all()\n",
    "    ), 'div section with matrices is not working right'\n",
    "\n",
    "@pytest.mark.parametrize(\"matrix1,number\", [[matrix1, 2]])    \n",
    "def test_matrix_div_number(matrix1: Matrix, number: int | float):\n",
    "    assert (\n",
    "        (np.array((matrix1 / number).matrix) == np.array(matrix1.matrix) / number).all()\n",
    "    ), 'div section with matrix and number is not working right'\n",
    "\n",
    "@pytest.mark.parametrize(\"matrix1,matrix2\", [[matrix1, matrix2.T()]])    \n",
    "def test_matrix_matmul_matrix(matrix1: Matrix, matrix2: Matrix):\n",
    "    assert(\n",
    "        (np.array((matrix1 @ matrix2).matrix) == np.array(matrix1.matrix) @ np.array(matrix2.matrix)).all()\n",
    "    ), 'matmul section is not working right, and don\\'t forget about T() if needed'"
   ]
  }
 ],
 "metadata": {
  "kernelspec": {
   "display_name": "Python 3",
   "language": "python",
   "name": "python3"
  },
  "language_info": {
   "codemirror_mode": {
    "name": "ipython",
    "version": 3
   },
   "file_extension": ".py",
   "mimetype": "text/x-python",
   "name": "python",
   "nbconvert_exporter": "python",
   "pygments_lexer": "ipython3",
   "version": "3.11.6"
  },
  "orig_nbformat": 4
 },
 "nbformat": 4,
 "nbformat_minor": 2
}
