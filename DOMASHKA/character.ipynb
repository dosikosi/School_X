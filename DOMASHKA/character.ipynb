{
 "cells": [
  {
   "cell_type": "code",
   "execution_count": 56,
   "metadata": {},
   "outputs": [],
   "source": [
    "class Character:\n",
    "    def game(self):\n",
    "        self.history_character = 798\n",
    "        skills = int(input())\n",
    "        self.strength = (skills + 5.36) * 5 + self.history_character\n",
    "        self.hitrost = (self.history_character * 45) - 100\n",
    "        self.smekalka = (skills + self.history_character) * 8\n",
    "\n",
    "    def trade(self):\n",
    "        return \"Персонаж хочет обменять валюту\"\n",
    "\n",
    "    def wait(self):\n",
    "        return \"Персонаж ждет чуда\"\n",
    "\n",
    "    def think(self):\n",
    "        return \"Персонаж думает о том как жить после форума ростов\"\n",
    "\n",
    "    def move(self):\n",
    "        return \"Персонаж куда-то двигается на ровных движениях\""
   ]
  },
  {
   "cell_type": "code",
   "execution_count": 57,
   "metadata": {},
   "outputs": [],
   "source": [
    "class Hero(Character):\n",
    "    def hero_method1(self):\n",
    "        return \"Герой геройствует\"\n",
    "\n",
    "    def hero_method2(self):\n",
    "        return \"Герой прям очень геройствует\""
   ]
  },
  {
   "cell_type": "code",
   "execution_count": 58,
   "metadata": {},
   "outputs": [],
   "source": [
    "class Villain(Character):\n",
    "    def villain_method1(self):\n",
    "        return \"Злодей злодейничает\"\n",
    "\n",
    "    def villain_method2(self):\n",
    "        return \"Злодей опять злодейничает\""
   ]
  },
  {
   "cell_type": "code",
   "execution_count": 59,
   "metadata": {},
   "outputs": [],
   "source": [
    "class Policeman(Hero):\n",
    "    def policeman_method1(self):\n",
    "        return \"Полицейских показывает ксиву\"\n",
    "\n",
    "    def policeman_method2(self):\n",
    "        return \"Сотрудник полиции показывает удостоверение\""
   ]
  },
  {
   "cell_type": "code",
   "execution_count": 60,
   "metadata": {},
   "outputs": [],
   "source": [
    "class Thief(Villain):\n",
    "    def thief_method1(self):\n",
    "        return \"Разбойник разбойничает\"\n",
    "\n",
    "    def thief_method2(self):\n",
    "        return \"Разбойник забирает деньги у богатых и оставляет их себе\"\n"
   ]
  },
  {
   "cell_type": "code",
   "execution_count": 61,
   "metadata": {},
   "outputs": [
    {
     "name": "stdout",
     "output_type": "stream",
     "text": [
      "Персонаж хочет обменять валюту\n",
      "Персонаж ждет чуда\n",
      "Персонаж думает о том как жить после форума ростов\n",
      "Персонаж куда-то двигается на ровных движениях\n",
      "Герой геройствует\n",
      "Злодей опять злодейничает\n",
      "Полицейских показывает ксиву\n",
      "Разбойник забирает деньги у богатых и оставляет их себе\n"
     ]
    }
   ],
   "source": [
    "character = Character()\n",
    "character.game()\n",
    "print(character.trade())\n",
    "print(character.wait())\n",
    "print(character.think())\n",
    "print(character.move())\n",
    "\n",
    "hero1 = Hero()\n",
    "hero1.game()\n",
    "print(hero1.hero_method1())\n",
    "\n",
    "villain1 = Villain()\n",
    "villain1.game()\n",
    "print(villain1.villain_method2())\n",
    "\n",
    "policeman1 = Policeman()\n",
    "policeman1.game()\n",
    "print(policeman1.policeman_method1())\n",
    "\n",
    "thief1 = Thief()\n",
    "thief1.game()\n",
    "print(thief1.thief_method2())"
   ]
  }
 ],
 "metadata": {
  "kernelspec": {
   "display_name": "Python 3",
   "language": "python",
   "name": "python3"
  },
  "language_info": {
   "codemirror_mode": {
    "name": "ipython",
    "version": 3
   },
   "file_extension": ".py",
   "mimetype": "text/x-python",
   "name": "python",
   "nbconvert_exporter": "python",
   "pygments_lexer": "ipython3",
   "version": "3.11.6"
  },
  "orig_nbformat": 4
 },
 "nbformat": 4,
 "nbformat_minor": 2
}
