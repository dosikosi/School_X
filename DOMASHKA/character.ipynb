{
 "cells": [
  {
   "cell_type": "code",
   "execution_count": 102,
   "metadata": {},
   "outputs": [],
   "source": [
    "class Character:\n",
    "    def __init__(self, strength, agility, intelligence):\n",
    "        self.strength = strength\n",
    "        self.agility = agility\n",
    "        self.intelligence = intelligence\n",
    "        self.speed = self.calculate_speed()\n",
    "        self.damage = self.calculate_damage()\n",
    "\n",
    "    def calculate_speed(self):\n",
    "        return self.agility * 2\n",
    "\n",
    "    def calculate_damage(self):\n",
    "        return self.strength + self.intelligence\n",
    "\n",
    "    def trade(self):\n",
    "        return \"Персонаж хочет обменять валюту\"\n",
    "\n",
    "    def wait(self):\n",
    "        return \"Персонаж ждет чуда\"\n",
    "\n",
    "    def think(self):\n",
    "        return \"Персонаж думает о том как жить после форума ростов\"\n",
    "\n",
    "    def move(self):\n",
    "        return \"Персонаж куда-то двигается на ровных движениях\"\n"
   ]
  },
  {
   "cell_type": "code",
   "execution_count": 103,
   "metadata": {},
   "outputs": [],
   "source": [
    "class Hero(Character):\n",
    "    def __init__(self, strength, agility, intelligence, hero_property1, hero_property2):\n",
    "        super().__init__(strength, agility, intelligence)\n",
    "        self.hero_property1 = hero_property1\n",
    "        self.hero_property2 = hero_property2\n",
    "\n",
    "    def hero_method1(self):\n",
    "        return \"Герой геройствует \"\n",
    "\n",
    "    def hero_method2(self):\n",
    "        return \"Герой прям очень геройствует\""
   ]
  },
  {
   "cell_type": "code",
   "execution_count": 104,
   "metadata": {},
   "outputs": [],
   "source": [
    "class Villain(Character):\n",
    "    def __init__(self, strength, agility, intelligence, villain_property1, villain_property2):\n",
    "        super().__init__(strength, agility, intelligence)\n",
    "        self.villain_property1 = villain_property1\n",
    "        self.villain_property2 = villain_property2\n",
    "\n",
    "    def villain_method1(self):\n",
    "        return \"Злодей злодейничает \"\n",
    "\n",
    "    def villain_method2(self):\n",
    "        return \"Злодей опять злодейничает\"\n"
   ]
  },
  {
   "cell_type": "code",
   "execution_count": 105,
   "metadata": {},
   "outputs": [],
   "source": [
    "class Policeman(Hero):\n",
    "    def __init__(self, strength, agility, intelligence, hero_property1, hero_property2, policeman_property1, policeman_property2):\n",
    "        super().__init__(strength, agility, intelligence, hero_property1, hero_property2)\n",
    "        self.policeman_property1 = policeman_property1\n",
    "        self.policeman_property2 = policeman_property2\n",
    "\n",
    "    def policeman_method1(self):\n",
    "        return \"Полицейских показывает ксиву\"\n",
    "\n",
    "    def policeman_method2(self):\n",
    "        return \"Сотрудник полиции показывает удостоверение\""
   ]
  },
  {
   "cell_type": "code",
   "execution_count": 106,
   "metadata": {},
   "outputs": [],
   "source": [
    "class Thief(Villain):\n",
    "    def __init__(self, strength, agility, intelligence, villain_property1, villain_property2, thief_property1, thief_property2):\n",
    "        super().__init__(strength, agility, intelligence, villain_property1, villain_property2)\n",
    "        self.thief_property1 = thief_property1\n",
    "        self.thief_property2 = thief_property2\n",
    "\n",
    "    def thief_method1(self):\n",
    "        return \"Разбойник разбойничает\"\n",
    "\n",
    "    def thief_method2(self):\n",
    "        return \"Разбойник забирает деньги у богатых и оставляет их себе \""
   ]
  },
  {
   "cell_type": "code",
   "execution_count": 107,
   "metadata": {},
   "outputs": [
    {
     "name": "stdout",
     "output_type": "stream",
     "text": [
      "Персонаж хочет обменять валюту\n",
      "Персонаж ждет чуда\n",
      "Персонаж думает о том как жить после форума ростов\n",
      "Персонаж куда-то двигается на ровных движениях\n",
      "Персонаж хочет обменять валюту\n",
      "Герой геройствует \n",
      "Персонаж ждет чуда\n",
      "Злодей опять злодейничает\n",
      "Персонаж думает о том как жить после форума ростов\n",
      "Полицейских показывает ксиву\n",
      "Персонаж куда-то двигается на ровных движениях\n",
      "Разбойник забирает деньги у богатых и оставляет их себе \n"
     ]
    }
   ],
   "source": [
    "character = Character(10, 15, 20)\n",
    "print(character.trade())\n",
    "print(character.wait())\n",
    "print(character.think())\n",
    "print(character.move())\n",
    "hero1 = Hero(12, 18, 25, \"HeroProp1\", \"HeroProp2\")\n",
    "hero2 = Hero(15, 20, 22, \"HeroProp3\", \"HeroProp4\")\n",
    "print(hero1.trade())\n",
    "print(hero1.hero_method1())\n",
    "villain1 = Villain(8, 16, 14, \"VillainProp1\", \"VillainProp2\")\n",
    "villain2 = Villain(10, 12, 18, \"VillainProp3\", \"VillainProp4\")\n",
    "print(villain1.wait())\n",
    "print(villain1.villain_method2())\n",
    "policeman1 = Policeman(14, 22, 20, \"HeroProp5\", \"HeroProp6\", \"PolicemanProp1\", \"PolicemanProp2\")\n",
    "policeman2 = Policeman(13, 19, 24, \"HeroProp7\", \"HeroProp8\", \"PolicemanProp3\", \"PolicemanProp4\")\n",
    "print(policeman1.think())\n",
    "print(policeman1.policeman_method1())\n",
    "thief1 = Thief(9, 15, 16, \"VillainProp5\", \"VillainProp6\", \"ThiefProp1\", \"ThiefProp2\")\n",
    "thief2 = Thief(11, 17, 19, \"VillainProp7\", \"VillainProp8\", \"ThiefProp3\", \"ThiefProp4\")\n",
    "print(thief2.move())\n",
    "print(thief2.thief_method2())\n"
   ]
  }
 ],
 "metadata": {
  "kernelspec": {
   "display_name": "Python 3",
   "language": "python",
   "name": "python3"
  },
  "language_info": {
   "codemirror_mode": {
    "name": "ipython",
    "version": 3
   },
   "file_extension": ".py",
   "mimetype": "text/x-python",
   "name": "python",
   "nbconvert_exporter": "python",
   "pygments_lexer": "ipython3",
   "version": "3.11.5"
  },
  "orig_nbformat": 4
 },
 "nbformat": 4,
 "nbformat_minor": 2
}
